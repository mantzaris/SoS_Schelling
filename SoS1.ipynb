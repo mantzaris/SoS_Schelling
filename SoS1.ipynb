{
 "cells": [
  {
   "cell_type": "code",
   "execution_count": null,
   "id": "3be25639-d3f4-4864-94a4-254cc12a87f7",
   "metadata": {},
   "outputs": [],
   "source": []
  },
  {
   "cell_type": "markdown",
   "id": "11bcaa9f-b768-4621-b6b1-88d8b6ab1b3c",
   "metadata": {},
   "source": [
    "*Tyler L*\n",
    "\n",
    "* Modify the Monetary model to have excitations of the system, in specific areas (or single agents). The excitations are monetary injections at intervals; deal with sound in the system which is the kinetic energy and see how fast it moves, start the system from, some stability, so that there is potential energy in the agents\n",
    "    1. Need to calculate, and measure how far the injection travels and in how much time, as a path on the grid (in the next paper it will not be on a grid but a continuous space). To see the effect of the injection is to wait till the agents are at rest, and then after an injection (to agent(s)) we then see agents in series change.\n",
    "    2. Agent movement is confined to a radius of X grid space distance $r=[0,1,2]$\n",
    "    3. Explore the $\\Delta v$ and the empty space amount related to the number of agents in the grid\n",
    "    4. Use the position of injection $(i_0,j_0,t_0)$ and then monitor each grid position, so that $(i,j,t)$ is marked as having received some energy (kinetic and potential energy which will change depending upon the amount of identity satisfaction convergence).\n",
    "    5. Identification of the successful transfer is either potential energy change or kinetic energy change, ie any agent total energy change.\n",
    "       "
   ]
  },
  {
   "cell_type": "code",
   "execution_count": null,
   "id": "ab193c6d-df11-4355-99b9-e1140668f639",
   "metadata": {},
   "outputs": [],
   "source": []
  },
  {
   "cell_type": "code",
   "execution_count": null,
   "id": "dde55cb8-579d-40c0-a907-e58c9e574f54",
   "metadata": {},
   "outputs": [],
   "source": []
  },
  {
   "cell_type": "code",
   "execution_count": null,
   "id": "dc8a9e81-5df0-4da5-bc16-3fe328546cc6",
   "metadata": {},
   "outputs": [],
   "source": []
  },
  {
   "cell_type": "code",
   "execution_count": null,
   "id": "b0d1d1e9-d38c-48e9-931a-8f5f0b75fb0e",
   "metadata": {},
   "outputs": [],
   "source": []
  },
  {
   "cell_type": "code",
   "execution_count": null,
   "id": "dd0f29ca-407a-43fe-8493-62f33feab2fb",
   "metadata": {},
   "outputs": [],
   "source": []
  },
  {
   "cell_type": "code",
   "execution_count": null,
   "id": "04542b04-043a-4073-9e06-d4167b02c2f4",
   "metadata": {},
   "outputs": [],
   "source": []
  },
  {
   "cell_type": "code",
   "execution_count": null,
   "id": "7b107743-9900-46e4-a9d4-ecdb8ed6b954",
   "metadata": {},
   "outputs": [],
   "source": []
  }
 ],
 "metadata": {
  "kernelspec": {
   "display_name": "Julia 1.8.2",
   "language": "julia",
   "name": "julia-1.8"
  },
  "language_info": {
   "file_extension": ".jl",
   "mimetype": "application/julia",
   "name": "julia",
   "version": "1.8.2"
  }
 },
 "nbformat": 4,
 "nbformat_minor": 5
}
